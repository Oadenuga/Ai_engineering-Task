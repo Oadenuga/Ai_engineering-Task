{
 "cells": [
  {
   "cell_type": "markdown",
   "id": "00515215",
   "metadata": {},
   "source": [
    "### Question \n"
   ]
  },
  {
   "cell_type": "markdown",
   "id": "80efe98b",
   "metadata": {},
   "source": [
    "**Given the following matrices**\n",
    "\n",
    "``` \n",
    "A = [2  -1] \n",
    "    [0   3]\n",
    "```\n",
    "\n",
    "\n",
    "``` \n",
    "B = [1    4]\n",
    "    [-2    5]\n",
    "```\n",
    "\n",
    "```\n",
    "scalars - (c = 2, d = 3)\n",
    "```\n"
   ]
  },
  {
   "cell_type": "markdown",
   "id": "064ddcdd",
   "metadata": {},
   "source": [
    "### Question 1"
   ]
  },
  {
   "cell_type": "markdown",
   "id": "50ede540",
   "metadata": {},
   "source": [
    "**compute the following**\n",
    "**1) cA**\n",
    "**2) cB**\n",
    "**3)( c+d)A**"
   ]
  },
  {
   "cell_type": "markdown",
   "id": "77275815",
   "metadata": {},
   "source": [
    "**Solution**\n",
    "```\n",
    "   1) cA\n",
    "      c=2 \n",
    "      A= [2 -1]\n",
    "         [0  3]\n",
    "\n",
    "      cA=[4  -2]\n",
    "         [0   6]\n",
    "\n",
    "   2)   cB\n",
    "        c=2\n",
    "        B=[1  4]\n",
    "          [-2  5]\n",
    "\n",
    "        cB=[2 4]\n",
    "           [4 10]\n",
    "\n",
    "   3)  (c+d)A\n",
    "      where d=3, make c+d=x\n",
    "      c+d= 5=x\n",
    "            [2 -1]\n",
    "      xA= 5 [0  3]\n",
    "   \n",
    "          =[10 -5]\n",
    "           [0   15]\n",
    "```"
   ]
  },
  {
   "cell_type": "markdown",
   "id": "6cef4213",
   "metadata": {},
   "source": [
    "### Question 2\n"
   ]
  },
  {
   "cell_type": "markdown",
   "id": "45bc0088",
   "metadata": {},
   "source": [
    "**Using the results verify, the scaler properties**"
   ]
  },
  {
   "cell_type": "markdown",
   "id": "18b78ac9",
   "metadata": {},
   "source": [
    "***solution***\n",
    "\n"
   ]
  },
  {
   "cell_type": "markdown",
   "id": "4f3d3a6f",
   "metadata": {},
   "source": [
    "```\n",
    "    2i)Associative properties\n",
    "      acording to this, (c * d)A= c*(dA)\n",
    "           To verify this, given c=2 and d = 3\n",
    "\n",
    "           (c* d)A=(2*3)[2   -1]\n",
    "                        [ 0   3]\n",
    "\n",
    "                  = 6[2   -1]  =[12 -6]          \n",
    "                     [0    3]   [0   18]\n",
    "                  \n",
    "           c*(dA)= 2* (3[2 -1])\n",
    "                      ( [0  3])\n",
    "\n",
    "                 = 2* ([6  -3])\n",
    "                      ([0   9])\n",
    "                \n",
    "                = [12  -6]          \n",
    "                  [0   18]\n",
    "          therefore, (c * d)A= c*(dA)\n",
    "    \n",
    "    2ii)Distributive over MAtrix addition\n",
    "           that is,c(A + B)=cA+ cB\n",
    "           to verify this,\n",
    "\n",
    "           c(A+ B)= [2 -1]    +    [1   4]\n",
    "                    [0  3]         [-2  5]\n",
    "\n",
    "                  = 2[3  3]\n",
    "                     [-2 8]\n",
    "\n",
    "                  =[6    6]\n",
    "                   [-4  16]\n",
    "           \n",
    "           cA+cB  =2[2 -1]     +    2[1   4]\n",
    "                    [0  3]           [-2  5]\n",
    "                   \n",
    "                  =[4  -2]      +     [2    8]\n",
    "                   [0   6]            [-4  10]\n",
    "\n",
    "                   =[6    6]\n",
    "                    [-4  16]\n",
    "              therefore, c(A + B)=cA+ cB\n",
    "      2iii) Distributive over scaler addition\n",
    "              that is, (c+d)A= cA+dA\n",
    "                A(a+d)= 2     +  3\n",
    "                     = 5[2  -1]\n",
    "                        [0   3]\n",
    "\n",
    "                     =[10   -5]\n",
    "                      [0    15]\n",
    "           \n",
    "            cA +dA  =  2[2 -1]     +    3[2  -1]\n",
    "                        [0  3]           [0   3]\n",
    "                   \n",
    "                    =  [4  -2]      +     [6   -3]\n",
    "                       [0   6]            [0    9]\n",
    "\n",
    "                    = [10   -5]\n",
    "                      [0    15]\n",
    "\n",
    "                      therfore, (c+d)A= cA+dA\n",
    "\n",
    "```"
   ]
  },
  {
   "cell_type": "markdown",
   "id": "3807e10e",
   "metadata": {},
   "source": [
    "### Question 3\n"
   ]
  },
  {
   "cell_type": "markdown",
   "id": "a458de6a",
   "metadata": {},
   "source": [
    "**Find the transpose of the two**"
   ]
  },
  {
   "cell_type": "markdown",
   "id": "204f68ba",
   "metadata": {},
   "source": [
    "```\n",
    "     Given  \n",
    "           A=[2  -1]\n",
    "             [0   3]\n",
    "\n",
    "          A^T=[2     0]\n",
    "              [-1    3]\n",
    "```\n",
    "     ii)  B=[1   4]\n",
    "            [-2  5]\n",
    "\n",
    "          B^T=  [1    -2]\n",
    "                [4    5]\n",
    "\n",
    "```"
   ]
  },
  {
   "cell_type": "markdown",
   "id": "0da750b1",
   "metadata": {},
   "source": [
    "### Question 4"
   ]
  },
  {
   "cell_type": "markdown",
   "id": "59174167",
   "metadata": {},
   "source": [
    "**find if the two matrices are invertible or not, if yes find the inverse of the two**"
   ]
  },
  {
   "cell_type": "markdown",
   "id": "e86bcbe8",
   "metadata": {},
   "source": [
    "```\n",
    "   for the first matrix \n",
    "          \n",
    "                A=[2   -1]\n",
    "                  [0    3]\n",
    "            detret(A)=  (2 X 3) - (-1 x 0)   det(A) = 6 - 0 \n",
    "        det(A)= 6 (Hence it is invertible, because 6 !=0)\n",
    "       A^-1 =>  1/6  = [3   1] = [3/6   1/6]  =  [1/2    1/6]\n",
    "                        [0   2]   [0     2/6]     [0      1/3]\n",
    "        \n",
    "\n",
    "   for B\n",
    "\n",
    "         B=[1   4]\n",
    "           [-2  5]\n",
    "\n",
    "           det(B)=  (1 X 5) - (4 x -2)   det(B) = 5 - (-8) = 5 + 8\n",
    "           \n",
    "\n",
    "        det(B)= 13 (Hence it is invertible, becuse 13!=0)\n",
    "\n",
    "        Inverse of B:\n",
    "        B^-1 =>  1/13  = [5   -4] = [5/13   -4/13]\n",
    "                         [2    1]   [2/13    1/13]\n",
    "```   \n",
    "\n",
    "      "
   ]
  }
 ],
 "metadata": {
  "kernelspec": {
   "display_name": "module_new",
   "language": "python",
   "name": "python3"
  },
  "language_info": {
   "codemirror_mode": {
    "name": "ipython",
    "version": 3
   },
   "file_extension": ".py",
   "mimetype": "text/x-python",
   "name": "python",
   "nbconvert_exporter": "python",
   "pygments_lexer": "ipython3",
   "version": "3.13.6"
  }
 },
 "nbformat": 4,
 "nbformat_minor": 5
}
