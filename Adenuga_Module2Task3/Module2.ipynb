{
 "cells": [
  {
   "cell_type": "code",
   "execution_count": null,
   "id": "f05826fe",
   "metadata": {},
   "outputs": [],
   "source": [
    ">LMNB\n"
   ]
  }
 ],
 "metadata": {
  "language_info": {
   "name": "python"
  }
 },
 "nbformat": 4,
 "nbformat_minor": 5
}
