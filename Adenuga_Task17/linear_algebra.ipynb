{
 "cells": [
  {
   "cell_type": "markdown",
   "id": "c53d6e64",
   "metadata": {},
   "source": [
    "### 3.1"
   ]
  },
  {
   "cell_type": "markdown",
   "id": "7ac0d084",
   "metadata": {},
   "source": []
  },
  {
   "cell_type": "code",
   "execution_count": 8,
   "id": "23dd6267",
   "metadata": {},
   "outputs": [
    {
     "data": {
      "text/html": [
       "<div>\n",
       "<style scoped>\n",
       "    .dataframe tbody tr th:only-of-type {\n",
       "        vertical-align: middle;\n",
       "    }\n",
       "\n",
       "    .dataframe tbody tr th {\n",
       "        vertical-align: top;\n",
       "    }\n",
       "\n",
       "    .dataframe thead th {\n",
       "        text-align: right;\n",
       "    }\n",
       "</style>\n",
       "<table border=\"1\" class=\"dataframe\">\n",
       "  <thead>\n",
       "    <tr style=\"text-align: right;\">\n",
       "      <th></th>\n",
       "      <th>Stuents</th>\n",
       "      <th>Math</th>\n",
       "      <th>English</th>\n",
       "      <th>Science</th>\n",
       "    </tr>\n",
       "  </thead>\n",
       "  <tbody>\n",
       "    <tr>\n",
       "      <th>0</th>\n",
       "      <td>student 1</td>\n",
       "      <td>80</td>\n",
       "      <td>70</td>\n",
       "      <td>90</td>\n",
       "    </tr>\n",
       "    <tr>\n",
       "      <th>1</th>\n",
       "      <td>student 2</td>\n",
       "      <td>60</td>\n",
       "      <td>85</td>\n",
       "      <td>75</td>\n",
       "    </tr>\n",
       "    <tr>\n",
       "      <th>2</th>\n",
       "      <td>student 3</td>\n",
       "      <td>95</td>\n",
       "      <td>88</td>\n",
       "      <td>92</td>\n",
       "    </tr>\n",
       "    <tr>\n",
       "      <th>3</th>\n",
       "      <td>student 4</td>\n",
       "      <td>70</td>\n",
       "      <td>60</td>\n",
       "      <td>65</td>\n",
       "    </tr>\n",
       "  </tbody>\n",
       "</table>\n",
       "</div>"
      ],
      "text/plain": [
       "     Stuents  Math  English  Science\n",
       "0  student 1    80       70       90\n",
       "1  student 2    60       85       75\n",
       "2  student 3    95       88       92\n",
       "3  student 4    70       60       65"
      ]
     },
     "execution_count": 8,
     "metadata": {},
     "output_type": "execute_result"
    }
   ],
   "source": [
    "import numpy as np\n",
    "import pandas as pd\n",
    "\n",
    "# Representing Data in rows and \n",
    "data = {\n",
    "    'Stuents': ['student 1', 'student 2', 'student 3', 'student 4'],\n",
    "    'Math':    [80, 60 ,95 , 70],\n",
    "    'English': [70, 85, 88, 60],\n",
    "    'Science': [90, 75, 92, 65]}\n",
    "\n",
    "DataR= pd.DataFrame(data)\n",
    "DataR.head()\n",
    "\n",
    "\n",
    "\n",
    "\n"
   ]
  },
  {
   "cell_type": "markdown",
   "id": "431d5f6d",
   "metadata": {},
   "source": [
    "### 3.2"
   ]
  },
  {
   "cell_type": "code",
   "execution_count": null,
   "id": "e6c2a4c9",
   "metadata": {},
   "outputs": [
    {
     "name": "stdout",
     "output_type": "stream",
     "text": [
      "Total for student1: 240\n",
      "Total for student2: 220\n",
      "Total for student3: 275\n",
      "Total for student4: 195\n"
     ]
    }
   ],
   "source": [
    "# representing data in array\n",
    "\n",
    "student1= np.array([80,70, 90])\n",
    "student2= np.array([60,85, 75])\n",
    "student3= np.array([95,88, 92])\n",
    "student4= np.array([70,60, 65])\n",
    "\n",
    "student1\n",
    "student2\n",
    "student3\n",
    "student4\n",
    "# total\n",
    "print(\"Total for student1:\", np.sum(student1))\n",
    "print(\"Total for student2:\", np.sum(student2))\n",
    "print(\"Total for student3:\", np.sum(student3))\n",
    "print(\"Total for student4:\", np.sum(student4))\n",
    "\n",
    "\n"
   ]
  },
  {
   "cell_type": "markdown",
   "id": "e6ab1bb8",
   "metadata": {},
   "source": [
    "### 3.3"
   ]
  },
  {
   "cell_type": "code",
   "execution_count": 30,
   "id": "3f85802a",
   "metadata": {},
   "outputs": [
    {
     "name": "stdout",
     "output_type": "stream",
     "text": [
      "[[80 70 90]\n",
      " [60 85 75]\n",
      " [95 88 92]\n",
      " [70 60 65]]\n",
      "[[160  70  90]\n",
      " [120  85  75]\n",
      " [190  88  92]\n",
      " [140  60  65]]\n",
      "scaler Result: [160 120 190 140]\n",
      "scaler multiplication of math Total: 610\n"
     ]
    }
   ],
   "source": [
    "# Applying scaler multiplication, Making mathematics Twice important\n",
    "# putting all in a column\n",
    "\n",
    "students= np.array([[80,70, 90],\n",
    "                    [60, 85, 75],\n",
    "                    [95, 88, 92],\n",
    "                    [70, 60, 65]\n",
    "                    ])\n",
    "\n",
    "print(students)\n",
    "scaler_c= 2\n",
    "# Making math twice important is scaler multiplication of maath column\n",
    "# scaler_multi= np.dot(scaler_c, axis=1)\n",
    "\n",
    "students_twice_math = students.copy()\n",
    "students_twice_math[:, 0] = scaler_c * students_twice_math[:, 0]\n",
    "print(students_twice_math)\n",
    "Total= students_twice_math[:, 0].sum()\n",
    "scale_x=students_twice_math[:, 0]\n",
    "print(\"scaler Result:\",scale_x)\n",
    "print(\"scaler multiplication of math Total:\", Total)\n"
   ]
  },
  {
   "cell_type": "markdown",
   "id": "a8aa2e55",
   "metadata": {},
   "source": [
    "### 3.4"
   ]
  },
  {
   "cell_type": "code",
   "execution_count": null,
   "id": "a891d9bc",
   "metadata": {},
   "outputs": [
    {
     "name": "stdout",
     "output_type": "stream",
     "text": [
      "Average mathematics: 76.25\n",
      "Average English: 75.75\n",
      "Average sci: 80.5\n"
     ]
    }
   ],
   "source": [
    "students= np.array([[80,70, 90],\n",
    "                    [60, 85, 75],\n",
    "                    [95, 88, 92],\n",
    "                    [70, 60, 65]\n",
    "                    ])\n",
    "Average_math= students[:,0].sum()/ 4\n",
    "Average_eng= students[:, 1].sum()/ 4\n",
    "Average_sci= students[:, 2].sum()/ 4\n",
    "\n",
    "print(f\"Average mathematics: {Average_math}\")\n",
    "print(f\"Average English: {Average_eng}\")\n",
    "print(f\"Average sci: {Average_sci}\")"
   ]
  },
  {
   "cell_type": "markdown",
   "id": "5771dbc1",
   "metadata": {},
   "source": [
    "### 3.5"
   ]
  },
  {
   "cell_type": "code",
   "execution_count": 57,
   "id": "787402d7",
   "metadata": {},
   "outputs": [
    {
     "name": "stdout",
     "output_type": "stream",
     "text": [
      "[[79. ]\n",
      " [70.5]\n",
      " [92.3]\n",
      " [66. ]]\n"
     ]
    }
   ],
   "source": [
    "students= np.array([[80,70, 90],\n",
    "                    [60, 85, 75],\n",
    "                    [95, 88, 92],\n",
    "                    [70, 60, 65]\n",
    "                    ])\n",
    "\n",
    "weight_vector= np.array([[0.5], [0.3], [0.2]])\n",
    "\n",
    "final_grade= np.matmul(students, weight_vector)\n",
    "print(final_grade)"
   ]
  },
  {
   "cell_type": "markdown",
   "id": "09f46751",
   "metadata": {},
   "source": [
    "### 3.6"
   ]
  },
  {
   "cell_type": "code",
   "execution_count": 47,
   "id": "a89acab5",
   "metadata": {},
   "outputs": [
    {
     "name": "stdout",
     "output_type": "stream",
     "text": [
      "difference in score vector: 35\n"
     ]
    }
   ],
   "source": [
    "# comparing scores of student1 3\n",
    "\n",
    "Average_student1= students[2,:].sum()- students[0,:].sum()\n",
    "print(\"difference in score vector:\", Average_student1)"
   ]
  },
  {
   "cell_type": "markdown",
   "id": "9726e8bd",
   "metadata": {},
   "source": [
    "## Question five\n"
   ]
  },
  {
   "cell_type": "code",
   "execution_count": 9,
   "id": "28e93d6d",
   "metadata": {},
   "outputs": [
    {
     "data": {
      "text/html": [
       "<div>\n",
       "<style scoped>\n",
       "    .dataframe tbody tr th:only-of-type {\n",
       "        vertical-align: middle;\n",
       "    }\n",
       "\n",
       "    .dataframe tbody tr th {\n",
       "        vertical-align: top;\n",
       "    }\n",
       "\n",
       "    .dataframe thead th {\n",
       "        text-align: right;\n",
       "    }\n",
       "</style>\n",
       "<table border=\"1\" class=\"dataframe\">\n",
       "  <thead>\n",
       "    <tr style=\"text-align: right;\">\n",
       "      <th></th>\n",
       "      <th>Stuents</th>\n",
       "      <th>Math</th>\n",
       "      <th>English</th>\n",
       "      <th>Science</th>\n",
       "      <th>chemistry</th>\n",
       "    </tr>\n",
       "  </thead>\n",
       "  <tbody>\n",
       "    <tr>\n",
       "      <th>0</th>\n",
       "      <td>student 1</td>\n",
       "      <td>91</td>\n",
       "      <td>70</td>\n",
       "      <td>90</td>\n",
       "      <td>30</td>\n",
       "    </tr>\n",
       "    <tr>\n",
       "      <th>1</th>\n",
       "      <td>student 2</td>\n",
       "      <td>60</td>\n",
       "      <td>85</td>\n",
       "      <td>40</td>\n",
       "      <td>40</td>\n",
       "    </tr>\n",
       "    <tr>\n",
       "      <th>2</th>\n",
       "      <td>student 3</td>\n",
       "      <td>95</td>\n",
       "      <td>87</td>\n",
       "      <td>92</td>\n",
       "      <td>89</td>\n",
       "    </tr>\n",
       "    <tr>\n",
       "      <th>3</th>\n",
       "      <td>student 4</td>\n",
       "      <td>70</td>\n",
       "      <td>60</td>\n",
       "      <td>65</td>\n",
       "      <td>55</td>\n",
       "    </tr>\n",
       "    <tr>\n",
       "      <th>4</th>\n",
       "      <td>student5</td>\n",
       "      <td>80</td>\n",
       "      <td>70</td>\n",
       "      <td>60</td>\n",
       "      <td>40</td>\n",
       "    </tr>\n",
       "  </tbody>\n",
       "</table>\n",
       "</div>"
      ],
      "text/plain": [
       "     Stuents  Math  English  Science  chemistry\n",
       "0  student 1    91       70       90         30\n",
       "1  student 2    60       85       40         40\n",
       "2  student 3    95       87       92         89\n",
       "3  student 4    70       60       65         55\n",
       "4   student5    80       70       60         40"
      ]
     },
     "execution_count": 9,
     "metadata": {},
     "output_type": "execute_result"
    }
   ],
   "source": [
    "data2= {\n",
    "    'Stuents': ['student 1', 'student 2', 'student 3', 'student 4','student5'],\n",
    "    'Math':    [91, 60 ,95 , 70, 80],\n",
    "    'English': [70, 85, 87, 60, 70],\n",
    "    'Science': [90, 40, 92, 65, 60],\n",
    "    'chemistry': [30, 40, 89, 55, 40]}\n",
    "\n",
    "DataR= pd.DataFrame(data2)\n",
    "DataR.head()\n",
    "\n",
    "\n"
   ]
  },
  {
   "cell_type": "code",
   "execution_count": 5,
   "id": "fa9d05fe",
   "metadata": {},
   "outputs": [
    {
     "data": {
      "text/plain": [
       "array([[91, 70, 90, 30],\n",
       "       [60, 85, 40, 40],\n",
       "       [95, 87, 92, 89],\n",
       "       [70, 60, 65, 55],\n",
       "       [80, 70, 60, 40]])"
      ]
     },
     "execution_count": 5,
     "metadata": {},
     "output_type": "execute_result"
    }
   ],
   "source": [
    "import numpy as np\n",
    "\n",
    "array= np.array([\n",
    "[91, 70 ,90 , 30,],\n",
    "[60, 85, 40, 40,],\n",
    "[95, 87, 92, 89,],\n",
    "[70, 60, 65, 55,],\n",
    "[80, 70, 60, 40]\n",
    "])\n",
    "\n",
    "array\n"
   ]
  },
  {
   "cell_type": "code",
   "execution_count": 33,
   "id": "5561501a",
   "metadata": {},
   "outputs": [
    {
     "name": "stdout",
     "output_type": "stream",
     "text": [
      "Student1 total score: 281\n",
      "Student2_total score: 225\n",
      "Student3_total score: 363\n",
      "Student4_total score: 250\n",
      "Student 5_total score: 250\n",
      "\n",
      "average student scores per subject\n",
      "Student 1 average score: 70.25\n",
      "Student 2 average score: 56.25\n",
      "Student 3 average score: 90.75\n",
      "Student 4 average score: 62.5\n",
      "Student 5 average score: 62.5\n"
     ]
    }
   ],
   "source": [
    "\n",
    "\n",
    "print(\"Student1 total score:\", array[0,:].sum())\n",
    "print(\"Student2_total score:\", array[1,:].sum())\n",
    "print(\"Student3_total score:\", array[2, :].sum())\n",
    "print(\"Student4_total score:\", array[3, :].sum())\n",
    "print(\"Student 5_total score:\", array[4, :].sum())\n",
    "\n",
    "\n",
    "print(\"\")\n",
    "\n",
    "print(\"average student scores per subject\")\n",
    "\n",
    "print(\"Student 1 average score:\", array[0, :].sum()/len(array[0,:]))\n",
    "print(\"Student 2 average score:\", array[1, :].sum()/len(array[1, :]))\n",
    "print(\"Student 3 average score:\", array[2, :].sum()/len(array[2, :]))\n",
    "print(\"Student 4 average score:\", array[3, :].sum()/len(array[3, :]))\n",
    "print(\"Student 5 average score:\", array[4, :].sum()/len(array[4, :]))\n",
    "\n",
    "\n"
   ]
  },
  {
   "cell_type": "markdown",
   "id": "43af902c",
   "metadata": {},
   "source": [
    "### Question 5.2"
   ]
  },
  {
   "cell_type": "code",
   "execution_count": 44,
   "id": "58a7ad90",
   "metadata": {},
   "outputs": [
    {
     "name": "stdout",
     "output_type": "stream",
     "text": [
      "Scaler multiplication is  [273 180 285 210 240]\n",
      "Scaler multiplication of mathematics Total is 1188\n"
     ]
    }
   ],
   "source": [
    "### If mathematics is 3 times as impoortant \n",
    "### scaler multiplication of Mathematics\n",
    "\n",
    "\n",
    "scale_x=3\n",
    "scaler_mul= np.dot(scale_x, array[:,0])\n",
    "\n",
    "print(\"Scaler multiplication is \",scaler_mul)\n",
    "\n",
    "print(\"Scaler multiplication of mathematics Total is\", scaler_mul.sum())"
   ]
  },
  {
   "cell_type": "markdown",
   "id": "24ced04a",
   "metadata": {},
   "source": [
    "### Question 5.3"
   ]
  },
  {
   "cell_type": "code",
   "execution_count": 59,
   "id": "efd0c800",
   "metadata": {},
   "outputs": [
    {
     "name": "stdout",
     "output_type": "stream",
     "text": [
      "[80.4 57.  91.9 65.  68. ]\n",
      "Final Grades for student 1: 80.4\n",
      "Final Grades for student 2: 57.0\n",
      "Final Grades for student 3: 91.9\n",
      "Final Grades for student 4: 65.0\n",
      "Final Grades for student 5: 68.0\n"
     ]
    }
   ],
   "source": [
    "\n",
    "# Create a new weight vector for grading:\n",
    "# Math: 40%\n",
    "# English: 20%\n",
    "# Science: 30%\n",
    "# Chemistry: 10%\n",
    "\n",
    "\n",
    "weights = np.array([0.4, 0.2,0.3, 0.1])\n",
    "final_grades = np.matmul(array, weights)\n",
    "print(final_grades)\n",
    "\n",
    "i=1\n",
    "for grades in final_grades:\n",
    "    print(f\"Final Grades for student {i}:\", grades)\n",
    "    i+=1\n"
   ]
  },
  {
   "cell_type": "markdown",
   "id": "353dffae",
   "metadata": {},
   "source": [
    "### Question 5.4"
   ]
  },
  {
   "cell_type": "code",
   "execution_count": 82,
   "id": "047415d0",
   "metadata": {},
   "outputs": [
    {
     "name": "stdout",
     "output_type": "stream",
     "text": [
      "Difference (Student 3 - Student 4): [25 27 27 34]\n",
      "Student 3 performed better in Math by 25 points.\n",
      "Student 3 performed better in English by 27 points.\n",
      "Student 3 performed better in Science by 27 points.\n",
      "Student 3 performed better in Chemistry by 34 points.\n"
     ]
    }
   ],
   "source": [
    "# Compare Student 3 and Student 4 using vector subtraction\n",
    "student3 = np.array([95, 87, 92, 89])\n",
    "student4 = np.array([70, 60, 65, 55])\n",
    "\n",
    "subjects = [\"Math\", \"English\", \"Science\", \"Chemistry\"]\n",
    "sub = student3 - student4\n",
    "print(\"Difference (Student 3 - Student 4):\", sub)\n",
    "\n",
    "for idx, diff in enumerate(sub):\n",
    "    if diff > 0:\n",
    "        print(f\"Student 3 performed better in {subjects[idx]} by {diff} points.\")\n",
    "    elif diff < 0:\n",
    "        print(f\"Student 4 performed better in {subjects[idx]} by {-diff} points.\")\n",
    "    else:\n",
    "        print(f\"Both students scored the same in {subjects[idx]}.\")"
   ]
  },
  {
   "cell_type": "code",
   "execution_count": null,
   "id": "105f6928",
   "metadata": {},
   "outputs": [],
   "source": []
  }
 ],
 "metadata": {
  "kernelspec": {
   "display_name": "module_new",
   "language": "python",
   "name": "python3"
  },
  "language_info": {
   "codemirror_mode": {
    "name": "ipython",
    "version": 3
   },
   "file_extension": ".py",
   "mimetype": "text/x-python",
   "name": "python",
   "nbconvert_exporter": "python",
   "pygments_lexer": "ipython3",
   "version": "3.13.6"
  }
 },
 "nbformat": 4,
 "nbformat_minor": 5
}
