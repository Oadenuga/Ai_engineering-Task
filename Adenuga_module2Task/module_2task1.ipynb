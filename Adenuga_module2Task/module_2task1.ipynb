{
 "cells": [
  {
   "cell_type": "markdown",
   "id": "a6d9082c",
   "metadata": {},
   "source": [
    "### Matrix\n",
    "```Question 1```\n",
    "\n",
    "```Given The Following Matrices ```\n",
    "```A=[2  -1 3] [0   4  1] and B=[1 2] [-2 0] [5 -3]``` \n",
    "\n",
    "1)Identify  the number of rows and columns in each matrix\n",
    "2)Determine wether the matrices can be multiplied. if so,  specify weather it's (AB), (BA) or both\n",
    "3)if the Multiplication is defined, compute the resulting matrix"
   ]
  },
  {
   "cell_type": "markdown",
   "id": "a42cfde2",
   "metadata": {},
   "source": [
    "#### Solution1"
   ]
  },
  {
   "cell_type": "code",
   "execution_count": 3,
   "id": "5d80e5c5",
   "metadata": {},
   "outputs": [
    {
     "name": "stdout",
     "output_type": "stream",
     "text": [
      "(2, 3)\n"
     ]
    },
    {
     "data": {
      "text/plain": [
       "(3, 2)"
      ]
     },
     "execution_count": 3,
     "metadata": {},
     "output_type": "execute_result"
    }
   ],
   "source": [
    "# 1) A= (2, 3)\n",
    "#    B=  (3, 2)\n",
    "\n",
    "import numpy as np\n",
    "# Using Numpy to show\n",
    "Matrix1=np.array([[2,-1, 3],\n",
    "                  [0, 4 , 1]])\n",
    "\n",
    "\n",
    "Matrix2 = np.array([[1, 2], \n",
    "                    [-2, 0],\n",
    "                    [5 ,-3]])\n",
    "\n",
    "print(Matrix1.shape)\n",
    "Matrix2.shape"
   ]
  },
  {
   "cell_type": "markdown",
   "id": "79f6e40a",
   "metadata": {},
   "source": [
    "#### Solution 2"
   ]
  },
  {
   "cell_type": "markdown",
   "id": "17e0e2c3",
   "metadata": {},
   "source": [
    "The two matrices can be multiplied, operation that can be performed is (AB) where A has same number of rows with columns in B. Both operations can be performed\n",
    "        "
   ]
  },
  {
   "cell_type": "markdown",
   "id": "d7c166ba",
   "metadata": {},
   "source": [
    "#### solution 3"
   ]
  },
  {
   "cell_type": "code",
   "execution_count": 8,
   "id": "c90626ac",
   "metadata": {},
   "outputs": [
    {
     "name": "stdout",
     "output_type": "stream",
     "text": [
      "[[19 -5]\n",
      " [-3 -3]]\n",
      "[[  2   7   5]\n",
      " [ -4   2  -6]\n",
      " [ 10 -17  12]]\n"
     ]
    }
   ],
   "source": [
    "Matrix1=np.array([[2,-1, 3],\n",
    "                  [0, 4 , 1]])\n",
    "\n",
    "\n",
    "Matrix2 = np.array([[1, 2], \n",
    "                    [-2, 0],\n",
    "                    [5 ,-3]])\n",
    "AB_Multiplication=np.matmul(Matrix1, Matrix2)\n",
    "print(AB_Multiplication)\n",
    "BA_multi=np.matmul(Matrix2, Matrix1)\n",
    "print(BA_multi)"
   ]
  }
 ],
 "metadata": {
  "kernelspec": {
   "display_name": "module_new",
   "language": "python",
   "name": "python3"
  },
  "language_info": {
   "codemirror_mode": {
    "name": "ipython",
    "version": 3
   },
   "file_extension": ".py",
   "mimetype": "text/x-python",
   "name": "python",
   "nbconvert_exporter": "python",
   "pygments_lexer": "ipython3",
   "version": "3.13.6"
  }
 },
 "nbformat": 4,
 "nbformat_minor": 5
}
