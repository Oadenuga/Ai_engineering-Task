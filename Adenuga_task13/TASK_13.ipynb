{
 "cells": [
  {
   "cell_type": "markdown",
   "id": "aa681844",
   "metadata": {},
   "source": [
    "### Question 1\n"
   ]
  },
  {
   "cell_type": "code",
   "execution_count": 49,
   "id": "0f7d7ce2",
   "metadata": {},
   "outputs": [
    {
     "name": "stdout",
     "output_type": "stream",
     "text": [
      "[[ 0  1  2  3  4  5  6  7  8]\n",
      " [ 9 10 11 12 13 14 15 16 17]\n",
      " [18 19 20 21 22 23 24 25 26]\n",
      " [27 28 29 30 31 32 33 34 35]\n",
      " [36 37 38 39 40 41 42 43 44]\n",
      " [45 46 47 48 49 50 51 52 53]]\n",
      "[[19 44 40  8 45 41]\n",
      " [45 18 41 18 48 47]\n",
      " [ 9 48 29 24 27 18]\n",
      " [33 18 49 20 27  5]\n",
      " [ 4  1 25 49 13 46]\n",
      " [24  5 12  6 26 45]]\n"
     ]
    }
   ],
   "source": [
    "import numpy as np\n",
    "# A row vector (1D)\n",
    "v1 = np.arange(0, 54, 1).reshape(6, 9)\n",
    "print(v1)\n",
    "\n",
    "# or\n",
    "v2=np.random.randint(1, 50, size=(6, 6))\n",
    "print(v2)"
   ]
  },
  {
   "cell_type": "markdown",
   "id": "4abaac25",
   "metadata": {},
   "source": [
    "## Question 2\n"
   ]
  },
  {
   "cell_type": "code",
   "execution_count": 41,
   "id": "a234fd09",
   "metadata": {},
   "outputs": [
    {
     "name": "stdout",
     "output_type": "stream",
     "text": [
      "first Row: [46 14 47 28 20 48]\n",
      "second  Row: [21  9 34 30  3 43]\n",
      "sixth column: [48 43  9 11  7 33]\n",
      "fifth column: [20  3 42 21 13  5]\n",
      "fourth column: [28 30 17  8  4 49]\n"
     ]
    }
   ],
   "source": [
    "print(\"first Row:\", v2[0])\n",
    "print(\"second  Row:\", v2[1])\n",
    "print(\"sixth column:\", v2[:, 5])\n",
    "print(\"fifth column:\", v2[:, 4])\n",
    "print(\"fourth column:\", v2[:, 3])"
   ]
  },
  {
   "cell_type": "markdown",
   "id": "26385363",
   "metadata": {},
   "source": [
    "#### Question 3"
   ]
  },
  {
   "cell_type": "code",
   "execution_count": 54,
   "id": "a308f445",
   "metadata": {},
   "outputs": [
    {
     "name": "stdout",
     "output_type": "stream",
     "text": [
      "Transformed shape:\n",
      " [[[19 44 40  8 45 41]\n",
      "  [45 18 41 18 48 47]]\n",
      "\n",
      " [[ 9 48 29 24 27 18]\n",
      "  [33 18 49 20 27  5]]\n",
      "\n",
      " [[ 4  1 25 49 13 46]\n",
      "  [24  5 12  6 26 45]]]\n",
      "Flattened array:\n",
      " [19 44 40  8 45 41 45 18 41 18 48 47  9 48 29 24 27 18 33 18 49 20 27  5\n",
      "  4  1 25 49 13 46 24  5 12  6 26 45]\n"
     ]
    }
   ],
   "source": [
    "trans= v2.reshape(3, 2, 6)\n",
    "print(\"Transformed shape:\\n\" ,trans)\n",
    "\n",
    "flatten= v2.flatten()\n",
    "print(\"Flattened array:\\n\", flatten)"
   ]
  },
  {
   "cell_type": "markdown",
   "id": "1155b1ad",
   "metadata": {},
   "source": [
    "#### Question 4"
   ]
  },
  {
   "cell_type": "code",
   "execution_count": 76,
   "id": "384f8848",
   "metadata": {},
   "outputs": [
    {
     "name": "stdout",
     "output_type": "stream",
     "text": [
      "[[10 22 14  8]\n",
      " [ 6 20 31 12]\n",
      " [27 34 30 14]\n",
      " [19 28 33 40]]\n"
     ]
    }
   ],
   "source": [
    "v3= np.random.randint(1, 40, size= (4, 4))\n",
    "v3[np.arange(4), np.arange(4)] = [10, 20, 30, 40]\n",
    "print(v3)\n",
    "\n"
   ]
  },
  {
   "cell_type": "code",
   "execution_count": 75,
   "id": "c2bf089f",
   "metadata": {},
   "outputs": [
    {
     "name": "stdout",
     "output_type": "stream",
     "text": [
      "[[10.  0.  0.  0.]\n",
      " [ 0. 20.  0.  0.]\n",
      " [ 0.  0. 30.  0.]\n",
      " [ 0.  0.  0. 40.]]\n"
     ]
    }
   ],
   "source": [
    " v4=np.eye(4)\n",
    " np.fill_diagonal(v4, [10, 20, 30, 40])\n",
    " print(v4)"
   ]
  },
  {
   "cell_type": "markdown",
   "id": "5c23f697",
   "metadata": {},
   "source": [
    "#### Question 5"
   ]
  },
  {
   "cell_type": "code",
   "execution_count": null,
   "id": "b627e419",
   "metadata": {},
   "outputs": [
    {
     "name": "stdout",
     "output_type": "stream",
     "text": [
      "[[8 1 2 5]\n",
      " [8 2 8 5]\n",
      " [9 8 8 6]]\n",
      "[[4 8 1 9]\n",
      " [1 6 7 9]\n",
      " [2 2 3 6]]\n",
      "Multiplication: [[32  8  2 45]\n",
      " [ 8 12 56 45]\n",
      " [18 16 24 36]]\n",
      "[[ 65  98  48]\n",
      " [116 153  66]\n",
      " [176 170 109]]\n"
     ]
    }
   ],
   "source": [
    "v5=np.random.randint(1, 10, size= (3, 4))\n",
    "v6=np.random.randint(1, 10, size= (4, 3))\n",
    "\n",
    "reshape=v6.reshape(3, 4)\n",
    "print(v5)\n",
    "print(reshape)\n",
    "print(\"Multiplication:\", v5*reshape)\n",
    "# or\n",
    "arraymulti= np.matmul(v5, v6)\n",
    "print(arraymulti)\n",
    "\n"
   ]
  },
  {
   "cell_type": "markdown",
   "id": "1e826cea",
   "metadata": {},
   "source": [
    "#### Question 6\n"
   ]
  },
  {
   "cell_type": "code",
   "execution_count": null,
   "id": "df5a84b1",
   "metadata": {},
   "outputs": [],
   "source": [
    "def arr_matrix():\n",
    "  # Take the input for rows and columns from the user\n",
    "  x = int(input(\"Please enter the number of rows: \"))\n",
    "  y = int(input(\"Please enter the number of columns: \"))\n",
    "\n",
    "  # Create a 2D NumPy array using the input from the user\n",
    "  arr = np.arange(x * y).reshape(x, y)\n",
    "\n",
    "  # Using the where function, return the squared even numbers and replace the odd numbers by -1\n",
    "  new_arr = np.where(arr % 2 == 0, arr**2, -1)\n",
    "  print(new_arr)\n",
    "  \n",
    "  # Output is a row of 3 and column of 4\n",
    "  \n",
    "arr_matrix()"
   ]
  }
 ],
 "metadata": {
  "kernelspec": {
   "display_name": "module_new",
   "language": "python",
   "name": "python3"
  },
  "language_info": {
   "codemirror_mode": {
    "name": "ipython",
    "version": 3
   },
   "file_extension": ".py",
   "mimetype": "text/x-python",
   "name": "python",
   "nbconvert_exporter": "python",
   "pygments_lexer": "ipython3",
   "version": "3.13.6"
  }
 },
 "nbformat": 4,
 "nbformat_minor": 5
}
