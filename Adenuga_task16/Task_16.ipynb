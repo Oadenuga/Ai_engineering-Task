{
 "cells": [
  {
   "cell_type": "code",
   "execution_count": 1,
   "id": "82cd1c3c",
   "metadata": {},
   "outputs": [],
   "source": [
    "import numpy as np\n"
   ]
  },
  {
   "cell_type": "code",
   "execution_count": 34,
   "id": "abf6bf55",
   "metadata": {},
   "outputs": [
    {
     "name": "stdout",
     "output_type": "stream",
     "text": [
      "cA:\n",
      " [[ 4 -2]\n",
      " [ 0  6]]\n",
      "cB:\n",
      " [[ 2  8]\n",
      " [-4 10]]\n",
      "(c+d)A:\n",
      " [[10 -5]\n",
      " [ 0 15]]\n"
     ]
    }
   ],
   "source": [
    "# given A=[2 -1]       and   B=[1  4]\n",
    "        # [0  3]               [-2  5]\n",
    "\n",
    "matrixA=np.array([[2 ,-1],\n",
    "                 [0  , 3]])\n",
    "matrixB=np.array([[1,   4],\n",
    "                  [ -2 ,   5]])\n",
    "c=2\n",
    "d=3\n",
    "# compute the following, cA,cB & (c+d)A\n",
    "cA= matrixA*c\n",
    "cB= matrixB*c\n",
    "scaleadd= 5 * matrixA\n",
    "print(\"cA:\\n\", cA)\n",
    "print(\"cB:\\n\", cB)\n",
    "print(\"(c+d)A:\\n\", scaleadd)\n",
    "\n",
    "\n"
   ]
  },
  {
   "cell_type": "markdown",
   "id": "facd1d36",
   "metadata": {},
   "source": [
    "### Question2"
   ]
  },
  {
   "cell_type": "code",
   "execution_count": null,
   "id": "be6e11c2",
   "metadata": {},
   "outputs": [
    {
     "name": "stdout",
     "output_type": "stream",
     "text": [
      "(c*d)A:\n",
      " [[12 -6]\n",
      " [ 0 18]]\n",
      "c*dA:\n",
      " [[12 -6]\n",
      " [ 0 18]]\n",
      "Therefore,(c*d)A=c*dA  ==True\n",
      "\n",
      "(A+B)c:\n",
      " [[ 6  6]\n",
      " [-4 16]]\n",
      "\n",
      "cA+cB:\n",
      " [[ 6  6]\n",
      " [-4 16]]\n",
      "\n",
      "Therefore,c(A+B)= cA+cB ==True\n",
      "(c+d)A:\n",
      " [[10 -5]\n",
      " [ 0 15]]\n",
      "\n",
      "cA +cB:\n",
      " [[10 -5]\n",
      " [ 0 15]]\n"
     ]
    }
   ],
   "source": [
    "# Verification of multiplication properties\n",
    "# To verify Associativity (c*d)A=c*dA\n",
    "# (cd)A= dopamine\n",
    "Associativiy = c*d*matrixA\n",
    "Associativiy2= d*matrixA*c\n",
    "print(\"(c*d)A:\\n\",Associativiy)\n",
    "print(\"c*dA:\\n\",Associativiy)\n",
    "print(\"Therefore,(c*d)A=c*dA  ==True\")\n",
    "print(\"\")\n",
    "\n",
    "\n",
    "# distributivity over matrix add\n",
    "# To prove that c(A+B)= cA+cB\n",
    "distri1= matrixA+matrixB\n",
    "disstric= 2*distri1\n",
    "cA= 2 * matrixA\n",
    "cB= 2 * matrixB\n",
    "Addded= cA+cB\n",
    "\n",
    "print(\"(A+B)c:\\n\",disstric)\n",
    "print('')\n",
    "print(\"cA+cB:\\n\", Addded)\n",
    "print(\"\")\n",
    "print(\"Therefore,c(A+B)= cA+cB ==True\")\n",
    "\n",
    "# Distibutivity over over scaler add,\n",
    "#   (c + d)A=cA + dA\n",
    "scaled= c+d\n",
    "scaledA= scaled * matrixA\n",
    "\n",
    "\n",
    "cA= c * matrixA\n",
    "dA= d * matrixA\n",
    "cadded= cA + dA\n",
    "print(\"(c+d)A:\\n\", scaledA)\n",
    "print(\"\")\n",
    "print(\"cA +cB:\\n\", cadded)\n",
    "print(\"therefore, (c + d)A=cA + dA== True \")\n",
    "\n",
    "\n",
    "# Another approach\n",
    "# cA_Computation = np.dot(c, matrixA)\n",
    "# Ac_Computation = np.dot(matrixA, c)\n",
    "\n",
    "# print(f\"Associativity of Scalar Multiplication: {np.array_equal(cA, Ac)}\")\n",
    "\n",
    "# dB = np.dot(d, matrixB)\n",
    "# Bd = np.dot(matrixB, d)\n",
    "# print(f\"Associativity of Scalar Multiplication: {np.array_equal(dB, Bd)}\")\n",
    "# cA= np.dot(c, matrixA)\n",
    "# Ac= np.dot(matrixA, c)\n",
    "\n",
    "# print(f\"Associativity of Scalar Multiplication: {np.array_equal(cA, Ac)}\")\n",
    "\n",
    "# dB_Computation = np.dot(d, matrixB)\n",
    "# Bd_Computation = np.dot(matrixB, d)\n",
    "# print(f\"Associativity of Scalar Multiplication: {np.array_equal(dB, Bd)}\")\n",
    "\n",
    "\n",
    "# #Distributivity over Scalar Addition\n",
    "# left =  (c + d)*matrixA\n",
    "\n",
    "# dA_computation = np.dot(d, matrixA)\n",
    "# right = cA + dA\n",
    "# print(f\"Distributivity over Scalar Multiplication: {np.array_equal(left, right)}\")\n",
    "\n",
    "\n",
    "\n",
    "\n",
    "\n",
    "\n"
   ]
  },
  {
   "cell_type": "markdown",
   "id": "1e8a4920",
   "metadata": {},
   "source": [
    "### Question3"
   ]
  },
  {
   "cell_type": "code",
   "execution_count": 52,
   "id": "ab172e2e",
   "metadata": {},
   "outputs": [
    {
     "name": "stdout",
     "output_type": "stream",
     "text": [
      "A^T:\n",
      " [[ 2  0]\n",
      " [-1  3]]\n",
      "B^T:\n",
      " [[ 1 -2]\n",
      " [ 4  5]]\n"
     ]
    }
   ],
   "source": [
    "# Find the transpose of the two\n",
    "\n",
    "A_trans= matrixA.T\n",
    "A_trans\n",
    "\n",
    "B_trans= matrixB.T\n",
    "print(\"A^T:\\n\", A_trans)\n",
    "print(\"B^T:\\n\", B_trans)\n"
   ]
  },
  {
   "cell_type": "markdown",
   "id": "ba8f320c",
   "metadata": {},
   "source": [
    "### question 4"
   ]
  },
  {
   "cell_type": "code",
   "execution_count": 55,
   "id": "4eb948df",
   "metadata": {},
   "outputs": [
    {
     "name": "stdout",
     "output_type": "stream",
     "text": [
      "The determinant of matrix A is: \n",
      " 6.0\n",
      "matrix A Is invertible: True\n",
      "\n",
      "The determinant of matrix B : \n",
      " 13.0\n",
      "matrix B is Is invertible: True\n",
      "\n",
      "The inverse of matrix A is: \n",
      " [[0.5        0.16666667]\n",
      " [0.         0.33333333]]\n",
      "\n",
      "The inverse of matrix B is: \n",
      " [[ 0.38461538 -0.30769231]\n",
      " [ 0.15384615  0.07692308]]\n"
     ]
    }
   ],
   "source": [
    "det_A = np.linalg.det(matrixA)\n",
    "det_B = np.linalg.det(matrixB)\n",
    "\n",
    "\n",
    "print(\"The determinant of matrix A is: \\n\", det_A)\n",
    "print(f\"matrix A Is invertible: {det_A != 0}\\n\") \n",
    "\n",
    "print(\"The determinant of matrix B : \\n\", det_B)\n",
    "print(f\"matrix B is Is invertible: {det_B != 0}\\n\")\n",
    "\n",
    "\n",
    "# inverse\n",
    "inverseA = np.linalg.inv(matrixA)\n",
    "inverseB = np.linalg.inv(matrixB)\n",
    "print(f\"The inverse of matrix A is: \\n {inverseA}\")\n",
    "print(f\"\\nThe inverse of matrix B is: \\n {inverseB}\")"
   ]
  }
 ],
 "metadata": {
  "kernelspec": {
   "display_name": "module_new",
   "language": "python",
   "name": "python3"
  },
  "language_info": {
   "codemirror_mode": {
    "name": "ipython",
    "version": 3
   },
   "file_extension": ".py",
   "mimetype": "text/x-python",
   "name": "python",
   "nbconvert_exporter": "python",
   "pygments_lexer": "ipython3",
   "version": "3.13.6"
  }
 },
 "nbformat": 4,
 "nbformat_minor": 5
}
